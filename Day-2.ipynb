{
 "cells": [
  {
   "cell_type": "markdown",
   "metadata": {},
   "source": [
    "# Examples "
   ]
  },
  {
   "cell_type": "code",
   "execution_count": 2,
   "metadata": {},
   "outputs": [
    {
     "name": "stdout",
     "output_type": "stream",
     "text": [
      "100 100 100\n",
      "\n",
      "\n",
      "10 5000 160\n",
      "\n",
      "\n",
      "Homes\n",
      "HoGes\n",
      "\n",
      "\n",
      "10.0\n",
      "20\n"
     ]
    }
   ],
   "source": [
    "\n",
    "a=b=c=100\n",
    "print(a,b,c)\n",
    "print(\"\\n\")\n",
    "\n",
    "a=a//10\n",
    "b=b*50\n",
    "c=c+60\n",
    "\n",
    "print(a,b,c)\n",
    "print(\"\\n\")\n",
    "\n",
    "\n",
    "str=\"Homes\"\n",
    "print(str)\n",
    "print(str.replace(\"m\",\"G\"))\n",
    "#this replaces every m character with G in string but doesnot affects string\n",
    "\n",
    "print(\"\\n\")\n",
    "a=10\n",
    "b=20.52\n",
    "print(float(a))\n",
    "print(int(b))"
   ]
  },
  {
   "cell_type": "code",
   "execution_count": null,
   "metadata": {},
   "outputs": [],
   "source": []
  }
 ],
 "metadata": {
  "kernelspec": {
   "display_name": "Python 3",
   "language": "python",
   "name": "python3"
  },
  "language_info": {
   "codemirror_mode": {
    "name": "ipython",
    "version": 3
   },
   "file_extension": ".py",
   "mimetype": "text/x-python",
   "name": "python",
   "nbconvert_exporter": "python",
   "pygments_lexer": "ipython3",
   "version": "3.8.3"
  }
 },
 "nbformat": 4,
 "nbformat_minor": 4
}
