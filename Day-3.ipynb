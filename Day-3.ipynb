{
 "cells": [
  {
   "cell_type": "code",
   "execution_count": 8,
   "metadata": {},
   "outputs": [
    {
     "name": "stdout",
     "output_type": "stream",
     "text": [
      "{'Apple': 'Fruit ', 'Potato': 'Vegetable', 'Mango': 'Fruit', 'Onion': 'Vegetable'}\n",
      "{'Plant': 'Living', 'Human': 'Living'}\n",
      "{'One': 1, 'Two': 2, 'Three': 3}\n",
      "3\n",
      "{1, 2, 3}\n"
     ]
    }
   ],
   "source": [
    "#Wap to merge two dictionaries\n",
    "\n",
    "D1 = {\"Apple\":\"Fruit \", \"Potato\":\"Vegetable\"}\n",
    "D2 = {\"Mango\":\"Fruit\", \"Onion\":\"Vegetable\"}\n",
    "D3 = {**D1,**D2}\n",
    "print(D3)\n",
    "\n",
    "#Wap to remove a key from dictionary\n",
    "\n",
    "A1={\"Plant\":\"Living\",\"Desk\":\"Non-Living\",\"Human\":\"Living\"}\n",
    "del A1[\"Desk\"]\n",
    "print(A1)\n",
    "\n",
    "#Wap to map two lists into dictionary\n",
    "\n",
    "L1=[\"One\",\"Two\",\"Three\"]\n",
    "L2=[1,2,3]\n",
    "LD={}\n",
    "for i in range(3):\n",
    "    LD[L1[i]]=L2[i]\n",
    "print(LD)\n",
    "\n",
    "#Wap to find length of a set\n",
    "\n",
    "CSK = {\"dhoni\", \"bravo\", \"jadeja\"}\n",
    "print(len(CSK))\n",
    "\n",
    "#Write a Python program to remove the intersection of a 2nd set from the 1st set\n",
    "\n",
    "S1 = {1,2,3,4,5}\n",
    "S2 = {4,5,6,7,8}\n",
    "print(S1-S2)"
   ]
  }
 ],
 "metadata": {
  "kernelspec": {
   "display_name": "Python 3",
   "language": "python",
   "name": "python3"
  },
  "language_info": {
   "codemirror_mode": {
    "name": "ipython",
    "version": 3
   },
   "file_extension": ".py",
   "mimetype": "text/x-python",
   "name": "python",
   "nbconvert_exporter": "python",
   "pygments_lexer": "ipython3",
   "version": "3.8.3"
  }
 },
 "nbformat": 4,
 "nbformat_minor": 4
}
